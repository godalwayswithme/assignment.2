{
  "nbformat": 4,
  "nbformat_minor": 0,
  "metadata": {
    "colab": {
      "provenance": []
    },
    "kernelspec": {
      "name": "python3",
      "display_name": "Python 3"
    },
    "language_info": {
      "name": "python"
    }
  },
  "cells": [
    {
      "cell_type": "code",
      "execution_count": null,
      "metadata": {
        "id": "XyVxFkbI7RVa"
      },
      "outputs": [],
      "source": [
        "Here are the Python solutions for your questions:\n",
        "\n",
        "### Q1. Sort the list of tuples based on the integer value using a lambda function:\n",
        "```python\n",
        "players = [('Sachin Tendulkar', 34357), ('Ricky Ponting', 27483), ('Jack Kallis', 25534), ('Virat Kohli', 24936)]\n",
        "# Sort based on the second element (integer value) in each tuple\n",
        "sorted_players = sorted(players, key=lambda x: x[1])\n",
        "print(sorted_players)\n",
        "```\n",
        "\n",
        "### Q2. Find the squares of all numbers in the list using `lambda` and `map` functions:\n",
        "```python\n",
        "numbers = [1, 2, 3, 4, 5, 6, 7, 8, 9, 10]\n",
        "# Use map with a lambda function to calculate the square of each number\n",
        "squared_numbers = list(map(lambda x: x**2, numbers))\n",
        "print(squared_numbers)\n",
        "```\n",
        "\n",
        "### Q3. Convert the list of integers into a tuple of strings using `map` and `lambda`:\n",
        "```python\n",
        "numbers = [1, 2, 3, 4, 5, 6, 7, 8, 9, 10]\n",
        "# Convert each integer to a string using map and lambda\n",
        "tuple_of_strings = tuple(map(lambda x: str(x), numbers))\n",
        "print(tuple_of_strings)\n",
        "```\n",
        "\n",
        "### Q4. Compute the product of numbers from 1 to 25 using the `reduce` function:\n",
        "```python\n",
        "from functools import reduce\n",
        "\n",
        "numbers = list(range(1, 26))\n",
        "# Use reduce to compute the product of all numbers\n",
        "product = reduce(lambda x, y: x * y, numbers)\n",
        "print(product)\n",
        "```\n",
        "\n",
        "### Q5. Filter numbers divisible by 2 and 3 using the `filter` function:\n",
        "```python\n",
        "numbers = [2, 3, 6, 9, 27, 60, 90, 120, 55, 46]\n",
        "# Use filter with a lambda function to find numbers divisible by both 2 and 3\n",
        "filtered_numbers = list(filter(lambda x: x % 2 == 0 and x % 3 == 0, numbers))\n",
        "print(filtered_numbers)\n",
        "```\n",
        "\n",
        "### Q6. Find palindromes in the given list of strings using `lambda` and `filter` functions:\n",
        "```python\n",
        "words = ['python', 'php', 'aba', 'radar', 'level']\n",
        "# Use filter with a lambda function to find palindromes\n",
        "palindromes = list(filter(lambda word: word == word[::-1], words))\n",
        "print(palindromes)\n",
        "```\n",
        "\n",
        "These programs should give the expected output for each question. Let me know if you need further clarifications!"
      ]
    }
  ]
}